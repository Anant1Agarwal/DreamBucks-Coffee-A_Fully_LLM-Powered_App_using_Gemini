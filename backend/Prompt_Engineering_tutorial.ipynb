{
 "cells": [
  {
   "cell_type": "code",
   "execution_count": 52,
   "metadata": {},
   "outputs": [],
   "source": [
    "import os\n",
    "from dotenv import load_dotenv\n",
    "from openai import OpenAI\n",
    "from sklearn.metrics.pairwise import cosine_similarity\n",
    "import json\n",
    "import re\n",
    "load_dotenv()\n",
    "os.environ[\"GOOGLE_APPLICATION_CREDENTIALS\"] = \"service_Account_key.json\""
   ]
  },
  {
   "cell_type": "markdown",
   "metadata": {},
   "source": [
    "### Configuring the ChatBot"
   ]
  },
  {
   "cell_type": "code",
   "execution_count": 2,
   "metadata": {},
   "outputs": [],
   "source": [
    "\n",
    "client = OpenAI(\n",
    "    api_key=os.getenv(\"GEMINI_API_KEY\"),\n",
    "    base_url=os.getenv(\"GEMINI_BASE_URL\")\n",
    ")\n",
    "model_name=os.getenv(\"MODEL_NAME\")"
   ]
  },
  {
   "cell_type": "code",
   "execution_count": 3,
   "metadata": {},
   "outputs": [],
   "source": [
    "\n",
    "def get_chatbot_response(client,model_name,messages,temperature=0):\n",
    "    input_messages = []\n",
    "    for message in messages:\n",
    "        input_messages.append({\"role\": message[\"role\"], \"content\": message[\"content\"]})\n",
    "\n",
    "    response = client.chat.completions.create(\n",
    "        model=model_name,\n",
    "        messages=input_messages,\n",
    "        temperature=temperature,\n",
    "        top_p=0.8,\n",
    "        max_tokens=2000,\n",
    "    ).choices[0].message.content\n",
    "    \n",
    "    return response"
   ]
  },
  {
   "cell_type": "markdown",
   "metadata": {},
   "source": [
    "### Sample Usage of getting LLM response"
   ]
  },
  {
   "cell_type": "code",
   "execution_count": 4,
   "metadata": {},
   "outputs": [
    {
     "name": "stdout",
     "output_type": "stream",
     "text": [
      "Rome.  Ancient capital of the Roman Empire, became Italy's capital in 1871 after unification.\n",
      "\n"
     ]
    }
   ],
   "source": [
    "\n",
    "messages = [{'role':'user','content':\"What's the capital of Italy? Give History of the capital in 20 words\" }]\n",
    "response = get_chatbot_response(client,model_name,messages)\n",
    "print(response)"
   ]
  },
  {
   "cell_type": "markdown",
   "metadata": {},
   "source": [
    "# Prompt Engineering"
   ]
  },
  {
   "cell_type": "markdown",
   "metadata": {},
   "source": [
    "### 1. Structured Output"
   ]
  },
  {
   "cell_type": "code",
   "execution_count": 5,
   "metadata": {},
   "outputs": [
    {
     "name": "stdout",
     "output_type": "stream",
     "text": [
      "[\n",
      "    {\n",
      "        \"country\": \"United States of America\",\n",
      "        \"capital\": \"Washington, D.C.\"\n",
      "    }\n",
      "]\n",
      "\n"
     ]
    }
   ],
   "source": [
    "system_prompt = \"\"\"\n",
    "You are a helpful assistant that answers questions about capitals of countries.\n",
    "\n",
    "Your output must be a **valid JSON array** in this format:[\n",
    "    {\n",
    "        \"country\": \"Country Name\",\n",
    "        \"capital\": \"Capital Name\"\n",
    "    }\n",
    "]\n",
    "You are not allowed to include anything outside this JSON format. If asked a question, respond only in this format. don't include any other information in your response like file type or any other information.\n",
    "\"\"\"\n",
    "messages = [{'role':'system','content':system_prompt}]\n",
    "messages.append({'role':'user','content':\"What's the capital of USA\"})\n",
    "response = get_chatbot_response(client,model_name,messages)\n",
    "print(response)"
   ]
  },
  {
   "cell_type": "code",
   "execution_count": 6,
   "metadata": {},
   "outputs": [
    {
     "data": {
      "text/plain": [
       "str"
      ]
     },
     "execution_count": 6,
     "metadata": {},
     "output_type": "execute_result"
    }
   ],
   "source": [
    "type(response)"
   ]
  },
  {
   "cell_type": "code",
   "execution_count": 7,
   "metadata": {},
   "outputs": [],
   "source": [
    "def response_to_json(response):\n",
    "    try:\n",
    "        # Validate and preprocess the response\n",
    "        if not response:\n",
    "            raise ValueError(\"Response is empty.\")\n",
    "        \n",
    "        # Extract JSON if necessary\n",
    "        match = re.search(r\"\\[.*\\]\", response, re.DOTALL)\n",
    "        if match:\n",
    "            json_string = match.group()\n",
    "        else:\n",
    "            raise ValueError(\"No valid JSON array found in the response.\")\n",
    "        \n",
    "        # Load the JSON\n",
    "        json_response = json.loads(json_string)\n",
    "        print(json_response)\n",
    "\n",
    "    except json.JSONDecodeError as e:\n",
    "        print(\"Invalid JSON response:\", response)\n",
    "        raise e\n",
    "    except ValueError as ve:\n",
    "        print(\"Error:\", ve)"
   ]
  },
  {
   "cell_type": "code",
   "execution_count": 8,
   "metadata": {},
   "outputs": [
    {
     "name": "stdout",
     "output_type": "stream",
     "text": [
      "[{'country': 'United States of America', 'capital': 'Washington, D.C.'}]\n"
     ]
    }
   ],
   "source": [
    "json_response=response_to_json(response)"
   ]
  },
  {
   "cell_type": "code",
   "execution_count": 9,
   "metadata": {},
   "outputs": [
    {
     "data": {
      "text/plain": [
       "NoneType"
      ]
     },
     "execution_count": 9,
     "metadata": {},
     "output_type": "execute_result"
    }
   ],
   "source": [
    "type(json_response)"
   ]
  },
  {
   "cell_type": "markdown",
   "metadata": {},
   "source": [
    "### 2. input structuring\n"
   ]
  },
  {
   "cell_type": "code",
   "execution_count": 10,
   "metadata": {},
   "outputs": [
    {
     "name": "stdout",
     "output_type": "stream",
     "text": [
      "[\n",
      "    {\n",
      "        \"country\": \"Italy\",\n",
      "        \"capital\": \"Rome\"\n",
      "    },\n",
      "    {\n",
      "        \"country\": \"France\",\n",
      "        \"capital\": \"Paris\"\n",
      "    },\n",
      "    {\n",
      "        \"country\": \"Germany\",\n",
      "        \"capital\": \"Berlin\"\n",
      "    }\n",
      "]\n",
      "\n"
     ]
    }
   ],
   "source": [
    "user_prompt = \"\"\"\n",
    "Get me the capitals of the following countries:\n",
    "```\n",
    "1. Italy\n",
    "2. France\n",
    "3. Germany\n",
    "``\n",
    "\"\"\"\n",
    "messages = [{'role':'system','content':system_prompt}]\n",
    "messages.append({'role':'user','content':user_prompt})\n",
    "response = get_chatbot_response(client,model_name,messages)\n",
    "print(response)"
   ]
  },
  {
   "cell_type": "code",
   "execution_count": 11,
   "metadata": {},
   "outputs": [
    {
     "name": "stdout",
     "output_type": "stream",
     "text": [
      "[{'country': 'Italy', 'capital': 'Rome'}, {'country': 'France', 'capital': 'Paris'}, {'country': 'Germany', 'capital': 'Berlin'}]\n",
      "None\n"
     ]
    }
   ],
   "source": [
    "json_response=response_to_json(response)\n",
    "print(json_response)"
   ]
  },
  {
   "cell_type": "markdown",
   "metadata": {},
   "source": [
    "### 3. Give the model time to think (Chain of thought) (used GEMINI PRO FOR THIS,NOT FLASH)\n",
    "##### "
   ]
  },
  {
   "cell_type": "code",
   "execution_count": 12,
   "metadata": {},
   "outputs": [
    {
     "name": "stdout",
     "output_type": "stream",
     "text": [
      "```json\n",
      "{\n",
      "  \"result\": 4\n",
      "}\n",
      "```\n"
     ]
    }
   ],
   "source": [
    "user_prompt = \"\"\"\n",
    "Calculate the result of this equation: 1+3\n",
    "\n",
    "Your output should be in a structured json format exactly like the one bellow. You are not allowed to write anything other than the json object:\n",
    "{\n",
    "    result: The final number resulted from calculating the equation above\n",
    "}\n",
    "\"\"\"\n",
    "\n",
    "messages = [{'role':'user','content':user_prompt}]\n",
    "response = get_chatbot_response(client,model_name,messages)\n",
    "print(response)"
   ]
  },
  {
   "cell_type": "code",
   "execution_count": 13,
   "metadata": {},
   "outputs": [
    {
     "data": {
      "text/plain": [
       "74088959.0"
      ]
     },
     "execution_count": 13,
     "metadata": {},
     "output_type": "execute_result"
    }
   ],
   "source": [
    "42349/2*3454+45345*22-45354\n"
   ]
  },
  {
   "cell_type": "code",
   "execution_count": 14,
   "metadata": {},
   "outputs": [
    {
     "name": "stdout",
     "output_type": "stream",
     "text": [
      "```json\n",
      "{\n",
      "  \"result\": 78570747\n",
      "}\n",
      "```\n"
     ]
    }
   ],
   "source": [
    "user_prompt = \"\"\"\n",
    "Calculate the result of this equation: 42349/2*3454+45345*22-45354\n",
    "\n",
    "\n",
    "Your output should be in a structured json format exactly like the one bellow. You are not allowed to write anything other than the json object:\n",
    "{\n",
    "    result: The final number resulted from calculating the equation above\n",
    "}\n",
    "\"\"\"\n",
    "\n",
    "messages = [{'role':'user','content':user_prompt}]\n",
    "response = get_chatbot_response(client,model_name,messages)\n",
    "print(response)"
   ]
  },
  {
   "cell_type": "code",
   "execution_count": 16,
   "metadata": {},
   "outputs": [
    {
     "data": {
      "text/plain": [
       "-4481788"
      ]
     },
     "execution_count": 16,
     "metadata": {},
     "output_type": "execute_result"
    }
   ],
   "source": [
    "#ERROR\n",
    "74088959-78570747"
   ]
  },
  {
   "cell_type": "markdown",
   "metadata": {},
   "source": [
    "#### Modified Prompt for chain of thoughts"
   ]
  },
  {
   "cell_type": "code",
   "execution_count": 15,
   "metadata": {},
   "outputs": [
    {
     "name": "stdout",
     "output_type": "stream",
     "text": [
      "```json\n",
      "{\n",
      "  \"steps\": \"Following BEDMAS (Brackets, Exponents, Division/Multiplication, Addition/Subtraction):\\n\\n1. Division: 42349 / 2 = 21174.5\\n2. Multiplication 1: 21174.5 * 3454 = 73081983\\n3. Multiplication 2: 45345 * 22 = 997590\\n4. Addition: 73081983 + 997590 = 74079573\\n5. Subtraction: 74079573 - 45354 = 74034219\",\n",
      "  \"result\": 74034219\n",
      "}\n",
      "```\n"
     ]
    }
   ],
   "source": [
    "user_prompt = \"\"\"\n",
    "Calculate the result of this equation: 42349/2*3454+45345*22-45354\n",
    "\n",
    "Your output should be in a structured json format exactly like the one bellow. You are not allowed to write anything other than the json object:\n",
    "{\n",
    "    steps: This is where you solve the equation bit by bit following the BEDMAS order of operations. You need to show your work and calculate each step leading to final result. Feel free to write here in free text. \n",
    "    result: The final number resulted from calculating the equation above\n",
    "}\n",
    "\"\"\"\n",
    "\n",
    "messages = [{'role':'user','content':user_prompt}]\n",
    "response = get_chatbot_response(client,model_name,messages)\n",
    "print(response)"
   ]
  },
  {
   "cell_type": "code",
   "execution_count": 17,
   "metadata": {},
   "outputs": [
    {
     "data": {
      "text/plain": [
       "54740"
      ]
     },
     "execution_count": 17,
     "metadata": {},
     "output_type": "execute_result"
    }
   ],
   "source": [
    "#ERROR NOW-> REDUCED\n",
    "74088959-74034219"
   ]
  },
  {
   "cell_type": "markdown",
   "metadata": {},
   "source": [
    "# RAG - Retrieval Augmented Generation"
   ]
  },
  {
   "cell_type": "markdown",
   "metadata": {},
   "source": [
    "#### Asking about a subject that the LLM does not know anything about"
   ]
  },
  {
   "cell_type": "code",
   "execution_count": 21,
   "metadata": {},
   "outputs": [
    {
     "name": "stdout",
     "output_type": "stream",
     "text": [
      "Please tell me what product your company launched! I need that information to tell you what's new.  For example, you could say:\n",
      "\n",
      "\"My company launched a new version of our photo editing software, PhotoSpark.\"\n",
      "\n",
      "Or:\n",
      "\n",
      "\"My company just released the FizzBuzz 3000, our latest fizzy drink dispenser.\"\n",
      "\n"
     ]
    }
   ],
   "source": [
    "user_prompt = \"\"\"\n",
    "What's new in the product my company launched?\n",
    "\"\"\"\n",
    "\n",
    "messages = [{'role':'user','content':user_prompt}]\n",
    "response = get_chatbot_response(client,model_name,messages)\n",
    "print(response)"
   ]
  },
  {
   "cell_type": "markdown",
   "metadata": {},
   "source": [
    "#### Giving Context to the unknown subject"
   ]
  },
  {
   "cell_type": "code",
   "execution_count": 22,
   "metadata": {},
   "outputs": [],
   "source": [
    "\n",
    "gpx_3000 =\"\"\" The TitanX GPX introduces groundbreaking advancements, setting a new standard for high-performance graphic processors. It features a cutting-edge 5nm architecture, delivering unparalleled efficiency and performance, with 20 billion transistors optimized for AI-driven workloads and next-gen gaming. The TitanX GPX is available in two variants: the standard GPX 7500 and the flagship GPX 9500, boasting core clock speeds of 2.2 GHz and 2.5 GHz respectively.\n",
    "\n",
    "Equipped with the latest RAYGEN 3.0 technology, it offers real-time ray tracing with 40% faster rendering speeds compared to its predecessor. The enhanced TensorCore 5.0 delivers up to 2x the AI performance, enabling features like super-resolution upscaling and AI-assisted image rendering with minimal latency. For content creators, the TitanX GPX introduces ProRender Studio, a hardware-accelerated toolset for seamless 8K video editing and 3D rendering.\n",
    "\n",
    "Cooling technology has also been reimagined, featuring a patented triple-fan VaporFlow system that maintains peak performance under heavy loads while operating at ultra-low noise levels. The TitanX GPX supports PCIe Gen 5.0 for up to 60% faster data transfer and is equipped with 24GB of GDDR7 VRAM, ensuring smooth performance even in the most demanding scenarios.\n",
    "\n",
    "Gamers and professionals will appreciate the new AdaptiveSync AI, which dynamically adjusts refresh rates and power consumption for maximum efficiency and an uninterrupted experience. Additionally, the TitanX GPX includes advanced security features like SecureCompute, ensuring sensitive data remains protected during processing.\n",
    "\n",
    "With a starting price of $899 for the GPX 7500 and $1,299 for the GPX 9500, the TitanX GPX delivers unmatched power and versatility for gamers, creators, and professionals alike. It is expected to launch globally in Q2 of 2024, ushering in a new era of computational excellence.\"\"\"\n"
   ]
  },
  {
   "cell_type": "code",
   "execution_count": 23,
   "metadata": {},
   "outputs": [
    {
     "name": "stdout",
     "output_type": "stream",
     "text": [
      "The TitanX GPX introduces several groundbreaking features:\n",
      "\n",
      "* **New Architecture:**  A cutting-edge 5nm architecture with 20 billion transistors optimized for AI and next-gen gaming.\n",
      "* **Two Variants:** GPX 7500 (2.2 GHz) and GPX 9500 (2.5 GHz).\n",
      "* **RAYGEN 3.0:** Real-time ray tracing with 40% faster rendering speeds.\n",
      "* **TensorCore 5.0:** Up to 2x AI performance for features like super-resolution and AI-assisted image rendering.\n",
      "* **ProRender Studio:**  A hardware-accelerated toolset for 8K video editing and 3D rendering.\n",
      "* **VaporFlow Cooling:** Patented triple-fan system for peak performance and low noise.\n",
      "* **PCIe Gen 5.0 Support:** Up to 60% faster data transfer.\n",
      "* **24GB GDDR7 VRAM:**  For smooth performance in demanding scenarios.\n",
      "* **AdaptiveSync AI:** Dynamically adjusts refresh rates and power consumption.\n",
      "* **SecureCompute:** Advanced security features for data protection.\n",
      "\n"
     ]
    }
   ],
   "source": [
    "user_prompt = f\"\"\"\n",
    "{gpx_3000}\n",
    "\n",
    "What's new in my product?\n",
    "\"\"\"\n",
    "\n",
    "messages = [{'role':'user','content':user_prompt}]\n",
    "response = get_chatbot_response(client,model_name,messages)\n",
    "print(response)"
   ]
  },
  {
   "cell_type": "code",
   "execution_count": 24,
   "metadata": {},
   "outputs": [],
   "source": [
    "#### Automatically extract context data from database"
   ]
  },
  {
   "cell_type": "code",
   "execution_count": 30,
   "metadata": {},
   "outputs": [],
   "source": [
    "rtx_9000 =\"\"\" The VegaCore G7 redefines affordability in high-performance graphics processing, delivering cutting-edge technology at a price point that’s accessible to everyone. Built on a refined 4nm architecture, the VegaCore G7 is optimized for efficiency and performance, packing 16 billion transistors into a compact design. With a core clock speed of 2.4 GHz and 18GB of ultra-fast GDDR7 memory, it effortlessly handles modern gaming, AI workloads, and creative applications.\n",
    "\n",
    "The VegaCore G7 features HyperRay 2.0 technology, offering real-time ray tracing with precision lighting and shadows, rivaling GPUs at twice its cost. Its AI-boosted NeuroCore engine enhances performance in machine learning tasks, upscaling, and real-time image generation. For gamers, the VegaCore G7 introduces SmartSync Max, a dynamic refresh rate system that eliminates screen tearing while conserving power.\n",
    "\n",
    "Designed for creators on a budget, it supports seamless 4K video editing and rendering with ProRender Lite, delivering professional-grade results. The innovative IceFlow Dual-Cooling system keeps temperatures low during intense workloads, ensuring sustained performance with minimal fan noise. \n",
    "\n",
    "The VegaCore G7 also embraces future-proofing with PCIe Gen 5.0 and full support for next-gen APIs like DirectX 12 Ultimate and Vulkan. Despite its advanced features, it remains highly energy-efficient, consuming 30% less power than competing models. \n",
    "\n",
    "Priced at just $499, the VegaCore G7 brings high-end graphics capabilities to gamers, creators, and professionals without breaking the bank. Launching in Q1 of 2024, the VegaCore G7 is poised to set a new benchmark for affordable innovation in the GPU market.\n",
    "\n",
    "\"\"\""
   ]
  },
  {
   "cell_type": "code",
   "execution_count": 68,
   "metadata": {},
   "outputs": [],
   "source": [
    "data = [gpx_3000,rtx_9000]"
   ]
  },
  {
   "cell_type": "code",
   "execution_count": 69,
   "metadata": {},
   "outputs": [],
   "source": [
    "from langchain_google_genai import GoogleGenerativeAIEmbeddings\n"
   ]
  },
  {
   "cell_type": "code",
   "execution_count": 70,
   "metadata": {},
   "outputs": [],
   "source": [
    "embedding_client = GoogleGenerativeAIEmbeddings(model=\"models/text-embedding-004\")"
   ]
  },
  {
   "cell_type": "code",
   "execution_count": 71,
   "metadata": {},
   "outputs": [],
   "source": [
    "def get_embedding(embedding_client,text_input):\n",
    "    # output = embedding_client.embeddings.create(input = text_input,model=model_name)\n",
    "    \n",
    "    # embedings = []\n",
    "    # for embedding_object in output.data:\n",
    "    #     embedings.append(embedding_object.embedding)\n",
    "    text_embeddings = embedding_client.embed_query(text_input)\n",
    "\n",
    "    return text_embeddings"
   ]
  },
  {
   "cell_type": "code",
   "execution_count": 72,
   "metadata": {},
   "outputs": [
    {
     "name": "stdout",
     "output_type": "stream",
     "text": [
      "[0.025023242458701134, -0.029425138607621193, -0.02370302565395832, 0.02087012492120266, 0.03005886636674404, -0.017354816198349, 0.040655795484781265, 0.015004133805632591, -0.03316664695739746, -0.0006572362035512924, -0.010689714923501015, 0.02045612595975399, 0.030596641823649406, 0.028133098036050797, 0.00045240126200951636, -0.05062270537018776, 0.0379929393529892, 0.010903503745794296, -0.08561782538890839, -0.04043088108301163, 0.008252979256212711, 0.017564963549375534, -0.06262002140283585, -0.01615682989358902, -0.01953445002436638, -0.00429777754470706, 0.02592288702726364, 0.009991437196731567, -0.010552148334681988, -0.0050605591386556625, 0.0011955726658925414, 0.024166421964764595, -0.015059259720146656, 1.9046781289944192e-06, 0.016891827806830406, 0.01892942190170288, -0.0514502115547657, 0.06808768212795258, -0.0005848486325703561, 0.002134028123691678, -0.01915089413523674, -0.031328149139881134, -0.07271043956279755, 0.01125387568026781, 0.04785545915365219, -0.022281259298324585, -0.03352600708603859, -0.0008952274220064282, -0.021522091701626778, 0.009688003920018673, 0.04972393438220024, -0.06507597863674164, 0.013417249545454979, 0.05687708035111427, 0.010347503237426281, -0.003381372895091772, -0.03194265067577362, -0.006876482628285885, 0.04523712769150734, 0.0033295981120318174, 0.01158847939223051, 0.03001500852406025, -0.02044100873172283, 0.00880136713385582, 0.010746405459940434, -0.005025885533541441, -0.023272687569260597, 0.020153993740677834, -0.018541334196925163, -0.009395185858011246, -0.06934823095798492, -0.0857154130935669, -0.023765478283166885, -0.055935826152563095, 0.04023721441626549, -0.026364386081695557, 0.03363681212067604, -0.046399109065532684, 0.046103350818157196, 0.0336291566491127, -0.02084251306951046, 0.051796749234199524, 0.050548143684864044, 0.005958592519164085, 0.044946976006031036, -0.04347465932369232, -0.007379129994660616, -0.0570182204246521, -0.03626512363553047, 0.0005122168804518878, 0.026656201109290123, 0.008757081814110279, -0.00813340488821268, 0.0017891228199005127, 0.07329616695642471, -0.017486395314335823, -0.07972191274166107, -0.09514093399047852, 0.08692441880702972, 0.04372399300336838, -0.020443102344870567, -0.009810220450162888, 0.020024240016937256, -0.018250538036227226, 0.04010756313800812, -0.009553671814501286, 0.022103985771536827, -0.01355239562690258, -0.05637593939900398, 0.07160297781229019, -0.02386230044066906, -0.07028885930776596, 0.021916406229138374, 0.03210820257663727, -0.04133862257003784, -0.0135507145896554, -0.0036006795708090067, 0.033248599618673325, -0.04747409373521805, -0.020066559314727783, 0.009185451082885265, 0.04149642214179039, -0.05412372574210167, 0.04816810414195061, 0.04343658685684204, 0.030979769304394722, -0.020685788244009018, 0.01813700422644615, -0.018445614725351334, -0.010735693387687206, -0.007956533692777157, -0.06681644171476364, -0.03643454611301422, 0.0566786453127861, -0.026366500183939934, -0.053981512784957886, 0.012133113108575344, 0.052611302584409714, 0.017279157415032387, 0.01096522156149149, 0.03520115092396736, -0.0022770087234675884, -0.042265359312295914, 0.039475128054618835, 0.025004707276821136, -0.02089766040444374, 0.03903757035732269, 0.028676912188529968, -0.04672830551862717, -0.01203130092471838, -0.02071601152420044, -0.019170532003045082, 0.01142110675573349, -0.07975214719772339, 0.014724248088896275, -0.039813414216041565, -0.029685767367482185, -0.05810197442770004, 0.05039069056510925, 0.01170709915459156, -0.022788124158978462, -0.013279587030410767, 0.05464579164981842, 0.026557257398962975, -0.0010713937226682901, -0.05043087899684906, -0.011910652741789818, 0.01772027276456356, 0.038015905767679214, -0.031200150027871132, 0.06571617722511292, -0.0033705467358231544, -0.035055991262197495, -0.046051397919654846, -0.021728606894612312, 0.013295402750372887, -0.03194941207766533, -0.04865674674510956, -0.00450081517919898, 0.036108631640672684, 0.04497441276907921, 0.04353799298405647, -0.00035015959292650223, 0.019117005169391632, 0.04408815875649452, 0.03324544057250023, 0.011395309120416641, 0.011915012262761593, 0.025087779387831688, 0.058847084641456604, -0.0022841468453407288, -0.020012667402625084, -0.018418174237012863, -0.005768769420683384, 0.02287263795733452, -0.0026645020116120577, 0.05961168184876442, 0.007692286744713783, 0.0042250752449035645, -0.00659908028319478, -0.012652420438826084, 0.05366872623562813, 0.019412903115153313, -0.030996080487966537, -0.005464060697704554, -0.018489962443709373, -0.044602442532777786, -0.06715510785579681, 0.019864218309521675, -0.002103563630953431, 0.08118318766355515, 0.03713160753250122, 0.007202682085335255, -0.04881172999739647, -0.06028908118605614, -0.02894374541938305, 0.07379261404275894, -0.004727383144199848, 0.007498080842196941, -0.0735567957162857, 0.023268084973096848, -0.0069273849949240685, 0.02928919345140457, 0.06736336648464203, 0.022882644087076187, 0.053653135895729065, -0.028930535539984703, -0.008584098890423775, 0.0029376877937465906, -0.052706316113471985, -0.04890836030244827, 0.005771575029939413, -0.02678753435611725, 0.03569823503494263, -0.019796790555119514, 0.014114385470747948, 0.02620505914092064, 0.009708533063530922, 0.014848805032670498, -0.04246905446052551, -0.031069733202457428, 0.04971648007631302, 0.08602003753185272, 0.029634442180395126, -0.03536367416381836, 0.0424983911216259, 0.07142650336027145, 0.041646167635917664, 0.04292374476790428, -0.052322983741760254, -0.010831501334905624, 0.07489755749702454, -0.022698482498526573, 0.031088482588529587, -0.019690094515681267, 0.0415983572602272, 0.044507164508104324, -0.01257469691336155, -0.04841235652565956, 0.01983642578125, -0.002222987124696374, -0.01549424510449171, -0.001817592652514577, -0.08545474708080292, -0.05612793192267418, -0.047312941402196884, -0.03126894310116768, -0.013219013810157776, 0.013564134947955608, 0.014926619827747345, -0.01759902574121952, -0.07082714885473251, -0.046672746539115906, -0.006467469502240419, -0.07277964055538177, 0.04118572175502777, -0.01122057531028986, 0.0495540052652359, -0.05383530631661415, -0.05517594516277313, -0.004998193588107824, 0.04637384042143822, 0.005376219283789396, -0.02629205584526062, -0.008576001971960068, 0.007770468946546316, 0.030080176889896393, 0.0314304493367672, 0.02128257229924202, 0.030720897018909454, 0.026219341903924942, 0.0027984974440187216, 0.04633761942386627, -0.007457700092345476, 0.05922761559486389, -0.03276832029223442, 0.01575959473848343, 0.04827475547790527, -0.04064711555838585, 0.009834129363298416, 0.026247957721352577, 0.029777131974697113, 0.010907640680670738, 0.00038745428901165724, 0.040841907262802124, 0.004094477742910385, -0.0011401792289689183, -0.046326398849487305, -0.031814321875572205, 0.02373262122273445, 0.02516184002161026, -0.008589672856032848, -0.06815984845161438, -0.027058327570557594, -0.061790719628334045, -0.012072639539837837, -0.0986223965883255, -0.02118758298456669, -0.007477878127247095, 0.05693560838699341, 0.012280379422008991, -0.003706375602632761, -0.03711433708667755, -0.06823035329580307, 0.022263988852500916, -0.030176321044564247, -0.013434232212603092, -0.020817356184124947, 0.03077382780611515, -0.0472257100045681, -0.01921459287405014, -0.023046433925628662, -0.009732130914926529, -0.03989843651652336, 0.03297215327620506, 0.01967298984527588, -0.048242006450891495, 0.03774134814739227, 0.0611221119761467, 0.031101252883672714, -0.0029318879824131727, -0.05094907805323601, 0.006219589151442051, -0.01827077381312847, -0.05201859027147293, 0.00013109864084981382, 0.0074052950367331505, 0.033327460289001465, 0.023388320580124855, -0.018362101167440414, 0.03039773367345333, -0.0025744708254933357, 0.0641193762421608, 0.021281011402606964, -0.038735873997211456, -0.0009129903628490865, 0.025413397699594498, 0.04317662492394447, 0.03421952575445175, 0.011999163776636124, 0.027047477662563324, -0.00037878783768974245, -0.051178812980651855, 0.06175318732857704, 0.03478140011429787, 0.03954990208148956, 0.005103702191263437, 0.03023376874625683, -0.053155601024627686, 0.0014755264855921268, -0.021386874839663506, 0.05482543632388115, 0.05351206287741661, 0.02027622051537037, 0.013069342821836472, -0.023843837901949883, -0.01322790514677763, 0.017037633806467056, 0.03643963858485222, -0.04578283801674843, -0.02686063013970852, 0.0060103340074419975, -0.0007919924100860953, -0.026537755504250526, -0.05122043192386627, 0.03542730212211609, -0.06079152971506119, -0.016613446176052094, 0.0018363173585385084, 0.028604185208678246, -0.016881166025996208, 0.039257124066352844, 0.06512640416622162, 0.008818482980132103, 0.00896371714770794, 0.013766171410679817, -0.03094765916466713, 0.0029025920666754246, 0.019819743931293488, 0.011127088218927383, 0.04741969332098961, 0.02473844774067402, 0.013550201430916786, -0.031310517340898514, -0.034726113080978394, -0.0220192838460207, -0.018699124455451965, -0.03983437269926071, 0.015285858884453773, 0.05164160951972008, 0.002381338505074382, 0.03210380673408508, 0.02024485543370247, 0.004503092262893915, -0.03416882082819939, -0.020548293367028236, 0.00392987160012126, -0.017094599083065987, 0.00148647406604141, 0.04085394740104675, 0.02484099194407463, 0.03728204965591431, 0.03419789299368858, 0.012655235826969147, 0.027892297133803368, 0.005591641645878553, 0.012550480663776398, 0.020801423117518425, 0.025056365877389908, 0.035316284745931625, -0.004990978632122278, 0.03956886753439903, -0.02474718913435936, -0.05009562894701958, -0.025979120284318924, 0.0500064343214035, -0.0030211161356419325, -0.017139986157417297, -0.011478607542812824, 0.006877214182168245, -0.05054216459393501, 0.007751523982733488, 0.04888565093278885, 0.041008561849594116, 0.01470338273793459, 0.0787571370601654, -0.016141310334205627, -0.0033613801933825016, 0.010011251084506512, -0.06082821264863014, 0.059017762541770935, -0.03649256005883217, 0.01356429886072874, -0.01963554508984089, -0.01653572916984558, -0.01614152081310749, -0.024693239480257034, 0.02850530669093132, 0.07810365408658981, 0.047224048525094986, -0.01567324995994568, -0.036608729511499405, 0.06201736256480217, 0.03212912008166313, 0.025362957268953323, -0.018607905134558678, -0.010877887718379498, 0.019148066639900208, 0.008898082189261913, 0.060889970511198044, 0.053777631372213364, -0.03743821009993553, -0.023096516728401184, -0.01760372705757618, 0.009835452772676945, -0.014442377723753452, 0.025022678077220917, 0.01799876056611538, -0.011156518012285233, -0.020502718165516853, -0.019030485302209854, -0.02736371010541916, -0.07684739679098129, 0.04429430887103081, -0.0024552561808377504, 0.020710501819849014, -0.0608329214155674, -0.036953188478946686, 0.05110178887844086, 0.023867130279541016, 0.03333612531423569, 0.06364530324935913, -0.0022130555007606745, -0.047381144016981125, 0.020665427669882774, 0.04956952482461929, 0.059341538697481155, 0.0005323895602487028, -0.049586594104766846, -0.03689384087920189, 0.028687508776783943, -0.022139394655823708, -0.028693338856101036, -0.012824337929487228, 0.005076340399682522, 0.036483731120824814, -0.03384864330291748, -0.0012088805669918656, 0.08240224421024323, 0.0184013694524765, 0.004182642325758934, -0.029287949204444885, 0.04037141799926758, 0.006868478376418352, -0.03712877258658409, -0.04622265323996544, -0.06762737780809402, 0.01206147763878107, 0.03521127626299858, 0.05826098844408989, 0.00871702004224062, -0.041366878896951675, -0.020631562918424606, -0.03224216029047966, 0.0022107658442109823, -0.05357549712061882, 0.012324553914368153, -0.009113393723964691, 0.016283303499221802, -0.010932096280157566, -0.032010868191719055, 0.08577902615070343, 0.051840640604496, 0.04111029580235481, 0.0008094623335637152, 0.04409414902329445, 0.0057713985443115234, -0.015565896406769753, 0.013091393746435642, 0.09085018932819366, -0.001874649664387107, -0.012936760671436787, 0.0022875997237861156, 0.06281191855669022, 0.04636210948228836, -0.03774060308933258, 0.02751583233475685, 0.0012300334637984633, -0.014782970771193504, 0.07504522055387497, 0.020106075331568718, -0.009137388318777084, -0.009819970466196537, 0.056972257792949677, -0.03298291936516762, 0.006002479698508978, 0.0333658903837204, 0.016719721257686615, -0.013349994085729122, -0.030976302921772003, 0.06981626898050308, -0.06462448090314865, -0.0438474602997303, -0.012050523422658443, -0.02342013269662857, 0.0012864315649494529, 0.004202662035822868, 0.06854060292243958, -0.03412691503763199, -0.03710108995437622, 0.07106687128543854, -0.0026841445360332727, -0.030760271474719048, -0.012977836653590202, -0.014189221896231174, -0.027759280055761337, -0.010059477761387825, 0.010058317333459854, 0.07097557187080383, 0.007920486852526665, 0.04410504922270775, 0.008958222344517708, 0.07700455188751221, 0.031156588345766068, -0.010666849091649055, 0.029657533392310143, 0.02363717555999756, 0.0019858062732964754, 0.045559361577034, -0.0002367139095440507, 0.030990296974778175, -0.04500742629170418, 0.016160039231181145, -0.056605201214551926, 0.007536950055509806, -0.04076428338885307, -0.017966125160455704, 0.00323116616345942, 0.027963878586888313, 0.027430782094597816, -0.0021512634120881557, -0.051747821271419525, 0.07564453035593033, 0.0369722843170166, -0.0364316925406456, -0.07623235881328583, -0.035840000957250595, -0.030548766255378723, -0.00033324892865493894, 0.003696913830935955, -0.0166665930300951, 0.047475215047597885, 0.006524680182337761, -0.08025269210338593, -0.03685436770319939, -0.009308064356446266, 0.004708105698227882, -0.07075373083353043, 0.04768422618508339, 0.039255134761333466, -0.013261341489851475, -0.010739397257566452, 0.06628606468439102, -0.05990641191601753, -0.059547293931245804, 0.024026917293667793, 0.0332905575633049, 0.021418964490294456, -0.02995944581925869, 0.0449390709400177, 0.01141322497278452, 0.03914500027894974, 0.022554880008101463, -0.008491369895637035, -0.05608250945806503, -0.006806819699704647, 0.00884754303842783, 0.024785904213786125, 0.02112780511379242, -0.010080830194056034, -0.009755746461451054, -0.014252031221985817, 0.02801729552447796, -0.048173937946558, 0.017624570056796074, 0.045234426856040955, 0.031419217586517334, 0.019236240535974503, -0.030041266232728958, -0.008373337797820568, -0.00956024881452322, -0.004873477388173342, -0.07311800122261047, -0.014539451338350773, -0.0011459860252216458, -0.06259341537952423, 0.0007049459381960332, 0.038342174142599106, 0.030102435499429703, 0.03431858494877815, -0.015389863401651382, -0.04955921322107315, -0.017170894891023636, 0.031177226454019547, -0.054174307733774185, -0.01661759428679943, -0.04122612997889519, 0.01909569464623928, 0.02865426242351532, -0.030604515224695206, -0.021759837865829468, -0.018313687294721603, 0.036968305706977844, 0.02316206693649292, 0.010264338925480843, -0.007362724281847477, 0.00036418496165424585, -0.034701891243457794, -0.019286632537841797, 0.06282772123813629, 0.030496546998620033, -0.008752702735364437, 0.016865866258740425, -0.02702660858631134, 0.016958681866526604, 0.009401301853358746, -0.028463300317525864, 0.006857062224298716, 0.02617057040333748, 0.0019176194909960032, -0.02225547656416893, 0.048853687942028046, -0.03579767793416977, 0.07918534427881241, 4.2307488911319524e-05, 0.05797567591071129, -0.004412911832332611, -0.016201475635170937, -0.018760308623313904, 0.0256135743111372, 0.015874121338129044, -0.015418163500726223, -0.08570000529289246, -0.03270368278026581, -0.05790340155363083, 0.02363182231783867, 0.032651882618665695, 0.028419747948646545, 0.010838452726602554, -0.028238054364919662, -0.039607394486665726, 0.018508566543459892, 0.028857683762907982, 0.023610787466168404, 0.05720996484160423, 0.008107315748929977, 0.02490908093750477, -0.01574261114001274, 0.03797542303800583, 0.07411256432533264, -0.01011617761105299, -0.005959279835224152, 0.030677827075123787, 0.08246210217475891, 0.09208617359399796, -0.023956429213285446, -0.04382891207933426, -0.012786122970283031, 0.007365602999925613, 0.06725951284170151, 0.06083136051893234, -0.029572775587439537, -0.06442055106163025, 0.011792657896876335, -0.007492168340831995, 0.0547882542014122, -0.037959545850753784, 0.0023290200624614954, 0.017619790509343147, -0.0381549671292305, 0.04653589054942131, 0.011168249882757664, -0.05710449814796448, 0.03906206041574478, -0.007458902429789305, 0.020680898800492287, -0.010807584971189499, -0.014576299116015434, 0.005203569307923317, 0.01920262537896633, -0.035471413284540176, 0.019115008413791656, 0.01711549051105976, 0.015416514128446579, 0.03090054914355278, -0.07447349280118942, 0.011255490593612194, -0.06995759904384613, -0.0041591753251850605, 0.00727365305647254, 0.036652516573667526, 0.04798809438943863, 0.015897881239652634, -0.03260410204529762, -0.0632530227303505, -0.059830207377672195, 0.03570830449461937, -0.01393183320760727]\n"
     ]
    }
   ],
   "source": [
    "user_prompt = \"\"\"What's new in the product my company launched Which is cheaper and has a lot of new technology?\"\"\"\n",
    "user_prompt_embeddings = get_embedding(embedding_client,user_prompt)\n",
    "print(user_prompt_embeddings)"
   ]
  },
  {
   "cell_type": "code",
   "execution_count": 86,
   "metadata": {},
   "outputs": [
    {
     "data": {
      "text/plain": [
       "768"
      ]
     },
     "execution_count": 86,
     "metadata": {},
     "output_type": "execute_result"
    }
   ],
   "source": [
    "len(user_prompt_embeddings)"
   ]
  },
  {
   "cell_type": "code",
   "execution_count": 79,
   "metadata": {},
   "outputs": [
    {
     "name": "stdout",
     "output_type": "stream",
     "text": [
      "[[0.006872884929180145, 0.0048769558779895306, -0.02769157849252224, 0.004376297816634178, 0.0299284178763628, -0.028672056272625923, 0.047561176121234894, -0.00886872224509716, 0.008629356510937214, -0.06792403757572174, -0.020681461319327354, 0.04515189677476883, 0.023318469524383545, 0.054365020245313644, -0.047586020082235336, 0.01730046607553959, 0.011260353028774261, -0.04899723455309868, -0.09349747747182846, 0.031237086281180382, -0.000667278713081032, -0.009611167013645172, -0.08710430562496185, 0.006718757096678019, 0.005019885953515768, 0.0018020081333816051, -0.005059306975454092, 0.00694841705262661, -0.00746766896918416, -0.023207640275359154, 0.012950435280799866, -0.02921873703598976, 0.008197754621505737, -0.015785759314894676, -0.029037920758128166, -0.016614127904176712, 0.015741651877760887, 0.017013147473335266, 0.10134094953536987, -0.04961330071091652, -0.04164060577750206, 0.012987587600946426, -0.019380154088139534, 0.030820991843938828, 0.015942061319947243, 0.01319199986755848, -0.05373968556523323, 0.022532738745212555, -0.034681130200624466, -0.007288528140634298, 0.05082105100154877, -0.10980948805809021, -0.014623412862420082, 0.003781939623877406, -0.023470519110560417, -0.005967482924461365, -0.03386354818940163, 0.011630610562860966, 0.04589850455522537, -0.017024600878357887, 0.006053737830370665, -0.03272600471973419, 0.005268314387649298, 0.01377177331596613, 0.03554794564843178, -0.016666118055582047, -0.08210757374763489, -0.027459144592285156, -0.03615940362215042, 0.005588251631706953, -0.01652488298714161, 0.018380681052803993, 0.006663870066404343, -0.03365064784884453, 0.03830850124359131, 0.020480988547205925, -0.004559160675853491, -0.09347493201494217, 0.03521270304918289, 0.037869617342948914, 0.005640558432787657, 0.0196220763027668, 0.10393562912940979, 0.00021562020992860198, 0.009916307404637337, -0.07028438150882721, 0.06073842942714691, -0.1231088936328888, -0.07423790544271469, 0.014876537024974823, 0.10614895820617676, -0.008144914172589779, 0.07485979050397873, 0.01171901635825634, 0.062049925327301025, -0.01958233118057251, -0.026820411905646324, -0.07585381716489792, 0.06195676326751709, 0.02044622227549553, 0.017654307186603546, -0.014904556795954704, -0.03438809886574745, -0.03891986608505249, 0.05971871688961983, 0.04810195416212082, -0.010235480964183807, -0.05364583432674408, -0.08555635064840317, 0.05267690122127533, 0.01981300860643387, -0.047370824962854385, -0.048949163407087326, 0.05186332389712334, -0.00544101232662797, 0.012623383663594723, -0.03484874218702316, 0.01644628308713436, -0.027208583429455757, 0.028717635199427605, 0.010868698358535767, 0.008873045444488525, 0.01696433313190937, 0.006215295754373074, 0.03773153945803642, 0.0697239339351654, 0.014335538260638714, 0.04993715137243271, -0.011093681678175926, -0.011871514841914177, 0.030660385265946388, -0.01957274042069912, 0.022086529061198235, 0.03408319503068924, 0.011910766363143921, -0.0037381937727332115, 0.03658707067370415, 0.0849563255906105, 0.0489179901778698, 0.009131032042205334, 0.027160773053765297, -0.036007340997457504, 0.05829742178320885, -0.03150250390172005, 0.01718194968998432, 0.005310292821377516, 0.029446197673678398, 0.04781338572502136, -0.010307072661817074, 0.0021781015675514936, 0.021579468622803688, -0.027570564299821854, -0.0006965915090404451, -0.039707913994789124, 0.010094220750033855, -0.08074638992547989, -0.03318464010953903, -0.081337109208107, 0.0195098165422678, 0.035836681723594666, -0.0003488028305582702, -0.023483045399188995, -0.010193311609327793, -0.0023329860996454954, 0.003959894645959139, 0.011154873296618462, 0.001690418692305684, -0.026104329153895378, -0.0015184065559878945, 0.018854698166251183, 0.00027614334248937666, 0.02866186760365963, 0.022599555552005768, -0.01403739396482706, -0.005345160607248545, -0.03194493055343628, 0.04202645644545555, -0.06364387273788452, -0.006302142050117254, -0.02187136374413967, 0.08694624155759811, -0.013514361344277859, -0.0618511326611042, 0.021325426176190376, 0.019721264019608498, 0.0022985844407230616, 0.0076722316443920135, -0.006011163350194693, 0.025407059118151665, 0.04950990155339241, 0.05150603502988815, -0.023125752806663513, 0.03241252154111862, -0.04111777991056442, 0.03302966430783272, -0.021009953692555428, 0.016794105991721153, -0.0424179807305336, 0.04622847959399223, -0.06866741925477982, -0.02973177097737789, 0.010344825685024261, 0.046028248965740204, -0.03179334104061127, -0.03638560697436333, -0.015405287966132164, 0.005350686144083738, -0.05848458409309387, 0.02249273657798767, -0.0054784552194178104, -0.027844835072755814, 0.022792302072048187, 0.0010917028412222862, 0.015733201056718826, -0.01263030618429184, -0.030767034739255905, 0.04405147582292557, 0.022914569824934006, 0.05808039754629135, -0.04745018854737282, 0.06513331085443497, -0.03445075824856758, 0.006170069333165884, 0.014615018852055073, 0.08674229681491852, 0.002423227997496724, -0.05458110570907593, 0.0146330576390028, -0.048312559723854065, -0.058430448174476624, 0.02278965339064598, -0.042961206287145615, 0.010478870943188667, 0.03237061947584152, -0.02096475288271904, 0.0075966231524944305, 0.02027931809425354, -0.03649831563234329, -0.009219236671924591, 0.006150592118501663, 0.044560205191373825, 0.061397723853588104, 0.11075076460838318, -0.019157446920871735, -0.03224705532193184, 0.03678333759307861, 0.02120848000049591, 0.05995336174964905, -0.013911156915128231, -0.06850060075521469, -0.03831935301423073, 0.04192689433693886, 0.023001322522759438, 0.07293082028627396, 0.015564235858619213, 0.00711278710514307, 0.056473661214113235, 0.019875001162290573, 0.001813313807360828, -0.014265610836446285, 0.03295869007706642, 0.0166332870721817, -0.022255564108490944, -0.04625381529331207, -0.03823180869221687, -0.06554020196199417, -0.06513012945652008, -0.04653573036193848, 0.06563002616167068, 0.03403482586145401, 0.030510488897562027, -0.0360853374004364, -0.027784736827015877, -0.03049914911389351, -0.02610674500465393, 0.0736379474401474, -0.008389946073293686, 0.033882107585668564, 0.0021512159146368504, -0.08140908926725388, 0.04748646914958954, 0.048285890370607376, -0.0012758808443322778, -0.019146312028169632, 0.021667614579200745, -0.01896512135863304, -0.02342447079718113, 0.034222573041915894, -0.002205190947279334, -0.07010514289140701, 0.004877076484262943, 0.0447935126721859, -0.05412950739264488, -0.08790116757154465, 0.005929372273385525, -0.015996374189853668, 0.015483959577977657, 0.029710758477449417, -0.06259214133024216, -0.027607910335063934, -0.05756181851029396, -0.01107146218419075, -0.03163066878914833, 0.02357826940715313, 0.005536381620913744, -0.002236888976767659, -0.006830282974988222, -0.04614338278770447, -0.04303373023867607, 0.029750393703579903, -0.005804839078336954, -0.0311282966285944, -0.02721003256738186, -0.05091489478945732, -0.00674236286431551, -0.009745128452777863, -0.0678098127245903, 0.03012186661362648, 0.001249582041054964, 0.027286406606435776, -0.016120614483952522, 0.01612061820924282, -0.12226885557174683, 0.028886638581752777, 0.012787142768502235, 0.002694355323910713, -0.03555513918399811, -0.029344351962208748, 0.0015403381548821926, -0.04735918715596199, 0.02395148202776909, 0.016085514798760414, 0.017978915944695473, -0.012618262320756912, -0.018381429836153984, 0.03854120150208473, -0.03869454562664032, 0.00452555762603879, 0.057871636003255844, 0.0465339720249176, -0.041183385998010635, -0.01877741515636444, 0.052758436650037766, 0.01820528320968151, -0.03481385111808777, 0.0007474145968444645, 0.046839430928230286, -0.013296176679432392, 0.0519278347492218, -0.015647226944565773, -0.008780972100794315, 0.014092649333178997, -0.005707967560738325, 0.02049674093723297, -0.003156248712912202, 0.010232669301331043, -0.0011492373887449503, -0.04011933505535126, 0.015725381672382355, -0.003495178883895278, -0.004384241998195648, -0.011224414221942425, -0.00603465223684907, -0.014327708631753922, 0.011496223509311676, -0.00048748403787612915, -0.008608022704720497, 0.06690623611211777, -0.03385278582572937, -0.004691699054092169, -0.029456794261932373, 0.03692205995321274, 0.04956086352467537, 0.026010550558567047, -0.001681302092038095, -0.028517071157693863, 0.026816831901669502, -0.007328702602535486, -0.016450969502329826, -0.008315540850162506, -0.029726175591349602, -0.045544251799583435, -0.032320644706487656, -0.01519286073744297, -0.038186248391866684, 0.060619745403528214, -0.005622389726340771, -0.04037049040198326, 0.02483784221112728, 0.0037155516911298037, -0.016930434852838516, 0.040268674492836, 0.07001159340143204, 0.025182895362377167, -0.048651088029146194, 0.05942866951227188, 0.05704245716333389, 0.049522869288921356, 0.017743811011314392, 0.03612392768263817, -0.001502936938777566, -0.013268952257931232, 0.0383136011660099, -0.05474229156970978, -0.03469271585345268, -0.04123913496732712, 0.027315158396959305, 0.014046701602637768, 0.003202684922143817, -0.0478234738111496, 0.005019001662731171, -0.010203168727457523, -0.00021865068993065506, -0.0065866014920175076, 0.019600458443164825, -0.028819240629673004, -0.015648987144231796, -0.07880397886037827, -0.01617596484720707, 0.06182993948459625, 0.0005126723553985357, 0.003808814100921154, 0.017908956855535507, 0.011529000476002693, -0.0059097521007061005, -0.013478636741638184, 0.010105223394930363, 0.01328460592776537, 0.03730238974094391, 0.04943457245826721, -0.0013178969966247678, 0.03931911289691925, 0.024734456092119217, -0.006321868393570185, -0.013263530097901821, 0.062371786683797836, 0.024983881041407585, -0.02478075958788395, 0.1261206865310669, 0.018997743725776672, -0.07499539852142334, -0.06797260046005249, 0.061932653188705444, 0.023854287341237068, -0.007286916021257639, 0.04711912199854851, 0.04117388278245926, 0.01993386819958687, 0.0413869246840477, 0.011496190913021564, 0.0032809206750243902, -0.01150523405522108, -0.021007725968956947, -0.05290595069527626, -0.040917906910181046, 0.03912372887134552, -0.009190420620143414, -0.0026696822606027126, -0.007071276195347309, 0.012650752440094948, -0.0028911104891449213, 0.002436629729345441, 0.0015406184829771519, 0.011197293177247047, -0.018861306831240654, -0.030995503067970276, -0.004513619001954794, 0.028745459392666817, -9.859340207185596e-05, 0.04406868293881416, -0.0021526915952563286, 0.009924677200615406, -0.01170454639941454, -0.002232570433989167, -0.008930780924856663, -0.004053386393934488, 0.04405529797077179, -0.008517559617757797, -0.031464092433452606, -0.06170647218823433, 0.003915978595614433, 0.01906224898993969, -0.05362221598625183, 0.04519987106323242, 0.04944964125752449, 0.021064914762973785, -0.01064586266875267, -0.01843084581196308, 0.021006332710385323, 0.026709718629717827, 0.010952236130833626, 0.011727666482329369, -0.02011330984532833, -0.06035536155104637, -0.06693128496408463, 0.03566168621182442, 0.057848937809467316, -0.017440559342503548, -0.04160349816083908, -0.028831947594881058, 0.03179040551185608, 0.03953434154391289, 0.08615706861019135, 0.020958729088306427, -0.02356320433318615, 0.011587296612560749, 0.0037419020663946867, -0.04645300284028053, 0.031972240656614304, 0.032441455870866776, 0.013894645497202873, -0.022939719259738922, -0.015854330733418465, 0.023758914321660995, -0.03325407952070236, 0.058704957365989685, -0.0009051279630511999, 0.02219020202755928, -0.008767473511397839, 0.02776658535003662, 0.021671414375305176, 0.012433758936822414, 0.030821356922388077, -0.014736279845237732, -0.007190100383013487, -0.05487784743309021, -0.027593689039349556, 0.01605910435318947, 0.008024105802178383, -0.04209582880139351, 0.03349360078573227, 0.016289474442601204, -0.014298566617071629, 0.0205362718552351, -0.0025239556562155485, 0.0071548777632415295, -0.019307367503643036, 0.012949622236192226, 0.020759232342243195, 0.05477621406316757, 0.04875420406460762, -0.006853278260678053, -0.016710985451936722, 0.022549055516719818, 0.017125766724348068, -0.015927374362945557, 0.007964191026985645, 0.030576113611459732, -0.009995668195188046, 0.02056122198700905, 0.020967120304703712, -0.03865903988480568, -0.054021887481212616, 0.02619394287467003, 0.03388132154941559, 0.014694484882056713, 0.021276241168379784, -0.053284820169210434, -0.040319960564374924, -0.030868401750922203, 0.03918256610631943, -0.01775922253727913, -0.03314238786697388, -0.017573408782482147, 0.009966197423636913, 0.018353546038269997, 0.010748560540378094, 0.008799468167126179, 0.010904669761657715, -0.01295140665024519, -0.008178350515663624, -0.008833364583551884, 0.0009180758497677743, 0.009920844808220863, -0.03511331230401993, -0.01400827057659626, -0.02329718880355358, 0.029285725206136703, 0.04641540348529816, 0.008483564481139183, 0.035067953169345856, -0.043632522225379944, 0.05177633464336395, 0.04081589728593826, 0.009308048523962498, 0.03155479207634926, -0.005326684098690748, -0.036857396364212036, 0.047970108687877655, -0.04243744537234306, -0.03378676623106003, 0.012858846224844456, 0.032540637999773026, -0.04284513741731644, -0.0020714548882097006, -0.010513621382415295, -0.03389716148376465, 0.03189144656062126, -0.029330836609005928, 0.005022520665079355, 0.0363333523273468, -0.055641863495111465, 0.07142208516597748, 0.03682898357510567, -0.005551947746425867, -0.0422285832464695, -0.03779884800314903, -0.050906673073768616, 0.006372575182467699, -0.016260843724012375, 0.01802225597202778, -0.0068268319591879845, 0.01711820438504219, -0.025508880615234375, -0.060688264667987823, -0.022033851593732834, -0.01954054646193981, -0.014688141644001007, -0.036552030593156815, 0.025047263130545616, -0.00021740315423812717, 0.006732530891895294, -0.014025485143065453, -0.02564791776239872, 0.012480523437261581, 0.022422319278120995, 0.03928489610552788, -0.01304883137345314, 0.026137318462133408, 0.01981838420033455, 0.007919005118310452, 0.04396013543009758, 0.03623175621032715, -9.51648034970276e-05, -0.016474921256303787, 0.026740441098809242, 0.05586222931742668, 0.0295091699808836, -0.02540598250925541, -0.10098561644554138, 0.08455658704042435, 0.04448923468589783, 0.03503449261188507, -0.027501262724399567, -0.018653059378266335, -0.03438263386487961, -0.02496991492807865, 0.00206270394846797, 0.0005444796406663954, 0.03144730627536774, -0.014167876914143562, -0.017263567075133324, -0.07961945235729218, -0.01863948442041874, -0.03336729481816292, -0.005983720067888498, -0.006062394008040428, 0.06720863282680511, -0.04738466069102287, 0.03491213545203209, 0.053288236260414124, -0.02489430084824562, -0.012648412957787514, 0.07169206440448761, -0.013418953865766525, -0.002867915667593479, -0.0233223307877779, 0.0405912883579731, 0.010910486802458763, -0.015415596775710583, -0.0061623831279575825, 0.05226483941078186, 0.029425079002976418, 0.02741246297955513, -0.017446154728531837, 0.039578136056661606, 0.003080597147345543, -0.003203046042472124, -0.025232359766960144, 0.060323383659124374, 0.02222907729446888, -0.05734160542488098, -0.019515153020620346, 0.005461183376610279, 0.015551944263279438, 0.02597365900874138, -0.0574827715754509, -0.0022699865512549877, 0.0015327183064073324, 0.0027298186905682087, -0.0037554879672825336, 0.009571014903485775, -0.00252063712105155, -0.0018137755105271935, -0.02677748166024685, 0.05771446228027344, 0.020510492846369743, -0.001791378017514944, -0.05117129161953926, 0.030204253271222115, -0.006258987355977297, -0.013732682913541794, -0.04549163952469826, -0.021349946036934853, 0.05246720090508461, 0.06478017568588257, 0.0415053516626358, -0.002535055158659816, -0.03818856552243233, 0.012721842154860497, -0.03929882124066353, 0.049296434968709946, 0.021747145801782608, 0.043470967561006546, -0.0037280709948390722, 0.014753995463252068, 0.026133954524993896, 0.00015460392751265317, 0.051081519573926926, 0.02453945390880108, 0.02406601421535015, -0.028295038267970085, 0.045469921082258224, 0.0836154967546463, 0.05534178763628006, 0.032929230481386185, -0.0067525687627494335, -0.01950506865978241, 0.021112829446792603, -0.014636860229074955, 0.07860277593135834, -0.03034249320626259, -0.05343334376811981, -0.010058669373393059, -0.04735717922449112, 0.020712902769446373, 0.031265415251255035, -0.02126881293952465, 0.032771673053503036, -0.0026010277215391397, 0.005298936739563942, -0.014830273576080799, -0.0910927876830101, 0.06198236718773842, -0.013729874975979328, 0.07976808398962021, 0.011357516050338745, -0.007678042631596327, -0.006977255921810865, -0.004407000262290239, -0.024221040308475494, 0.02982713095843792, 0.038290128111839294, -0.062348928302526474, -0.01052248477935791, -0.0036476454697549343, 0.03362911939620972, -0.014411546289920807, 0.02696099877357483, -0.020972268655896187, 0.0323551706969738, 0.03973403945565224, -0.043655283749103546, -0.008479446172714233, -0.059052735567092896, -0.03195548802614212, 0.04479565843939781, -0.04078439623117447], [0.009643406607210636, -0.004207191057503223, -0.06257080286741257, 0.019094431772828102, 0.04479636251926422, -0.04649027809500694, 0.00770937604829669, -0.008162968792021275, -0.02435746230185032, -0.052224982529878616, -0.0008396818302571774, 0.04878019541501999, 0.05333222821354866, 0.029312152415513992, -0.0053412215784192085, -0.010766291990876198, 0.031451765447854996, -0.016324922442436218, -0.09807626903057098, -0.0029150310438126326, 0.010022765956819057, -0.03242979943752289, -0.023943252861499786, -0.011256306432187557, -0.04488357529044151, -0.021966859698295593, 0.03435486555099487, 0.014232738874852657, 0.030613960698246956, -0.03549856320023537, 0.031096311286091805, 0.0015544731868430972, 0.027722829952836037, -0.026224326342344284, 0.004202684853225946, 0.020779632031917572, 0.015627147629857063, -0.0062527344562113285, 0.07652054727077484, -0.05115300789475441, -0.033351413905620575, 0.021080033853650093, -0.007002715487033129, 0.05371050909161568, 0.02901049517095089, -0.045623164623975754, -0.008312957361340523, -0.009398731403052807, -0.014428095892071724, 0.01869630254805088, -0.004933567252010107, -0.02282165177166462, -0.006608222611248493, -0.02953101508319378, -0.025129947811365128, 0.005674195941537619, -0.029593873769044876, 0.003697826061397791, 0.03893590718507767, 0.02549200877547264, 0.017176862806081772, -0.04075546935200691, 0.018737798556685448, 0.01653226837515831, 0.0461164265871048, -0.03745683282613754, -0.07654312998056412, -0.02990083396434784, -0.014506966806948185, -0.02526772767305374, -0.024215374141931534, 0.006426692474633455, -0.03367476537823677, -0.0031001477036625147, 0.0033506278414279222, 0.00737429317086935, -0.014708257280290127, -0.0684138834476471, -0.009570968337357044, 0.014130791649222374, -0.029101843014359474, 0.02568591758608818, 0.05582432076334953, -0.013590184971690178, -0.017338816076517105, -0.055782392621040344, 0.02330990508198738, -0.15590278804302216, -0.05096970871090889, -0.003056953428313136, 0.10602397471666336, -0.0033446792513132095, 0.06465458869934082, 0.028536103665828705, 0.05330124869942665, -0.03288736566901207, -0.00395352253690362, -0.09290573745965958, 0.04314742609858513, 0.03509189561009407, 0.011322368867695332, -0.05626415088772774, -0.026480037719011307, -0.07232695072889328, 0.07151579111814499, 0.021108480170369148, -0.013065183535218239, -0.028804555535316467, -0.06749826669692993, 0.04871875047683716, 0.03352298215031624, -0.027667097747325897, -0.029907461255788803, 0.02048885077238083, -0.020441383123397827, -0.029754558578133583, -0.06857536733150482, 0.005549706518650055, -0.03459600731730461, -0.015385973267257214, 0.01470574364066124, 0.011349030770361423, 0.013418937101960182, 0.029069311916828156, 0.0364513024687767, 0.03458118811249733, -0.013937130570411682, 0.038668192923069, -0.033893685787916183, -0.02164059691131115, 0.031794365495443344, 0.001206966582685709, 0.004266991745680571, -0.004228082951158285, 0.07503223419189453, -0.041254933923482895, 0.043706778436899185, 0.09293828159570694, 0.07752183079719543, 0.013248005881905556, 0.009869120083749294, -0.040463268756866455, 0.036053240299224854, -0.020450759679079056, 0.0020420001819729805, -0.05995916202664375, 0.025091253221035004, 0.049139413982629776, -0.012806531973183155, -0.018352031707763672, 0.008137768134474754, -0.01890857145190239, -0.03182985261082649, -0.0033751584123820066, -0.011760923080146313, -0.035430487245321274, -0.04075482860207558, -0.07077453285455704, 0.02656758949160576, 0.02189682051539421, -0.001268322579562664, -0.0038921490777283907, -0.01621527411043644, 0.017681922763586044, 0.005144870840013027, -0.008467160165309906, -0.022272871807217598, -0.020872779190540314, 0.015150846913456917, 0.015996528789401054, 0.014577616937458515, 0.044043947011232376, 0.024125998839735985, -0.018569955602288246, -0.007120386231690645, -0.007248586975038052, 0.011520283296704292, -0.043383773416280746, -0.0116939852014184, -0.05267252027988434, 0.0529654435813427, -0.024168096482753754, -0.025073640048503876, 0.00827349629253149, 0.0590846911072731, 0.0006671928567811847, 0.01316189207136631, -0.05175522714853287, 0.0021444240119308233, 0.0803280770778656, 0.002378427656367421, -0.04275757074356079, 0.005879508797079325, -0.019407637417316437, 0.037357017397880554, -0.0422624796628952, 0.046597179025411606, -0.00027119129663333297, 0.0472446084022522, -0.05579680576920509, -0.05103287473320961, -0.03446601703763008, 0.05617218092083931, -0.037289805710315704, -0.03621448948979378, -0.041155729442834854, -0.025298280641436577, -0.03855699300765991, 0.0009972343686968088, -0.008426734246313572, -0.025563666597008705, 0.05407104268670082, -0.013206184841692448, -0.0065046679228544235, 0.020759766921401024, -0.03007272072136402, 0.051660895347595215, 0.00851830467581749, 0.02139851823449135, -0.030689489096403122, 0.07825848460197449, -0.07380189001560211, 0.05094899237155914, 0.0357355996966362, 0.023870903998613358, 0.005674136336892843, -0.03454260155558586, 0.018845532089471817, -0.012774811126291752, -0.042007677257061005, 0.06379362940788269, -0.011804034933447838, -0.013610292226076126, -0.005589825566858053, 0.02365053817629814, 0.011387285776436329, -0.007162562571465969, -0.009062579832971096, -0.006885994225740433, -0.014185762032866478, -0.0016435513971373439, 0.021553413942456245, 0.1122451201081276, 0.012163211591541767, -0.021041464060544968, 0.03714537248015404, 0.010748611763119698, 0.03913288190960884, -0.03975825011730194, -0.020493997260928154, -0.07509908080101013, 0.03708163648843765, -0.03987228497862816, 0.042088232934474945, 0.020652728155255318, 0.00669307354837656, 0.07953806221485138, -0.007687786594033241, 0.007878508418798447, -0.024750925600528717, 0.058249037712812424, 0.025142934173345566, -0.014323951676487923, -0.052226364612579346, -0.00401767622679472, -0.09463172405958176, -0.05738243833184242, -0.031813886016607285, 0.03164732828736305, -0.004596250597387552, 0.03666151687502861, -0.027450252324342728, -0.03240899369120598, -0.07255791872739792, -0.025947963818907738, 0.04206462576985359, -0.021796192973852158, 0.038990508764982224, -0.026497159153223038, -0.06939728558063507, 0.03086673654615879, 0.011642941273748875, 0.02657480351626873, -0.015163247473537922, 0.001773842261172831, -0.021135777235031128, -0.020796213299036026, 0.04894007742404938, 0.009921455755829811, -0.0425591766834259, -0.02242712303996086, 0.030336817726492882, -0.06226919963955879, -0.07749881595373154, 0.017063692212104797, -0.021549630910158157, 0.03801504150032997, 0.03549739718437195, -0.05085824429988861, -0.020479414612054825, -0.06617826223373413, 0.015415097586810589, -0.04646693170070648, 0.012650546617805958, 0.0009796631056815386, 0.03857587277889252, -0.0036238455213606358, 0.006293443497270346, -0.05624965578317642, -0.009316672571003437, 0.008509315550327301, -0.04951285570859909, -0.009037747047841549, -0.03901832550764084, -0.01417584903538227, -0.0073420885019004345, -0.03938696160912514, 0.011586200445890427, -0.031155889853835106, 0.03075506165623665, -0.014890637248754501, 0.019664039835333824, -0.039567865431308746, -0.01634375751018524, 0.04779212549328804, -0.01503293402493, -0.002184848301112652, -0.0673343762755394, -0.011804214678704739, -0.03199026733636856, 0.010207101702690125, 0.0110615910962224, 0.030993353575468063, 0.007100576534867287, 0.02404898777604103, 0.04777444154024124, 0.002130275359377265, 0.009922618977725506, 0.058505140244960785, 0.08582550287246704, -0.010432095266878605, -0.0067284260876476765, 0.0028905856888741255, 0.03480098396539688, -0.03666280210018158, -0.026341186836361885, 0.050150204449892044, 0.0037190699949860573, 0.04104560986161232, 0.020738275721669197, -0.021250858902931213, 0.05017021670937538, 0.03586079552769661, 0.016265081241726875, -0.006375818978995085, -0.011472044512629509, -0.014654813334345818, -0.004394812509417534, 0.02501429244875908, -0.008180386386811733, -0.032061174511909485, 0.00941501371562481, -0.020167870447039604, 0.02207866869866848, 0.011913655325770378, 0.014577551744878292, -0.03458213433623314, 0.06459427624940872, -0.05266011878848076, -0.022826842963695526, -0.03934996575117111, 0.02750549651682377, 0.04679545760154724, 0.031286220997571945, 0.009564623236656189, -0.0243661031126976, 0.04744040220975876, 0.028545232489705086, 0.018381008878350258, 0.006826041266322136, -0.026016535237431526, -0.003753136144950986, -0.008734111674129963, 0.001164266956038773, -0.026618223637342453, 0.05563138425350189, -0.03002001903951168, -0.05432852357625961, 0.013427269645035267, 0.020565412938594818, -0.01633811742067337, 0.019520137459039688, 0.06462078541517258, 0.06816349923610687, -0.01299854926764965, 0.03946110978722572, 0.01901036687195301, 0.07607611268758774, 0.020981352776288986, 0.022849077358841896, 0.012434054166078568, 0.009548292495310307, 0.048911575227975845, -0.04585280641913414, -0.03618841990828514, -0.004043219611048698, -0.01301127765327692, -0.007160793524235487, -0.01780431717634201, -0.031014669686555862, -0.023687511682510376, 0.021485215052962303, -0.015418394468724728, 0.009396117180585861, -0.00852926168590784, -0.022618936374783516, -0.032795462757349014, -0.02748262882232666, -0.041419900953769684, 0.0440620556473732, -0.0024070346262305975, 0.03395747020840645, 0.030770082026720047, -0.007568316999822855, 0.03745594993233681, -0.019560793414711952, 0.015394414775073528, 0.022128550335764885, 0.05137961357831955, 0.042352378368377686, 0.021152563393115997, 0.0018253029556944966, 6.161540659377351e-05, -0.01647017151117325, -0.0005435441853478551, 0.08965297788381577, 0.035126835107803345, -0.01904243230819702, 0.07495119422674179, 0.013469837605953217, -0.057327985763549805, -0.039857398718595505, 0.04090897738933563, 0.030992653220891953, -0.009955068118870258, 0.02702651172876358, 0.05758307874202728, 0.027377231046557426, 0.06400011479854584, 0.004095287993550301, -0.014006284065544605, -0.027061827480793, -0.05658099055290222, -0.023804472759366035, -0.02834239788353443, 0.048615969717502594, -0.015662886202335358, 0.03495823219418526, 0.022195717319846153, 0.008582797832787037, -0.030579617246985435, -0.02108127810060978, 0.059646084904670715, 0.01844009943306446, 0.04454530403017998, -0.029075153172016144, -0.013886550441384315, 0.07601285725831985, 4.5823046093573794e-05, 0.07349085062742233, 0.03824798762798309, 0.028303375467658043, -0.019057590514421463, 0.008026869967579842, 0.006487423554062843, 0.02094179391860962, 0.01440377812832594, 0.0016079084016382694, -0.0176154226064682, -0.021513033658266068, 0.008851295337080956, 0.008388403803110123, -0.028503334149718285, 0.039784204214811325, 0.055513348430395126, 0.005119366571307182, -0.01180459838360548, 0.031610455363988876, -0.002671099966391921, 0.04581168293952942, 0.014091634191572666, 0.015555066056549549, -0.02908068522810936, -0.04791685938835144, -0.049312468618154526, 0.03707326203584671, 0.042860645800828934, 0.012508205138146877, -0.04053669422864914, -0.04534478485584259, 0.015144344419240952, 0.024734940379858017, 0.03145672753453255, 0.005245965905487537, 0.050266288220882416, 0.02471887692809105, -0.030465329065918922, -0.03728354722261429, 0.030299238860607147, 0.05329004302620888, 0.017139341682195663, -0.04920502379536629, -0.017466576769948006, -0.011647429317235947, -0.03252125903964043, 0.05042025446891785, -0.06085816025733948, 0.024061672389507294, -0.0019056395394727588, 0.010274061933159828, 0.0128781171515584, -0.0018145566573366523, 0.0610356405377388, -0.03851443529129028, -0.02730409801006317, -0.0667746439576149, 0.0089789517223835, -0.0022535512689501047, -0.03728729486465454, -0.015213441103696823, 0.03406964987516403, 0.04106767848134041, -0.02333683893084526, 0.018216338008642197, -0.018126122653484344, -0.007490718737244606, -0.04144097864627838, 0.02641315944492817, -0.012909403070807457, 0.0443083755671978, 0.00595485046505928, -0.027027787640690804, 0.005629167892038822, 0.04189232364296913, 0.050079379230737686, -0.042872149497270584, 0.01643182337284088, 0.009205400943756104, -0.021767238155007362, 0.0028713522478938103, 0.033101096749305725, -0.05707770586013794, -0.02893088571727276, 0.0715101957321167, 0.033866725862026215, 0.003395377192646265, 0.006594122387468815, -0.06197100877761841, 0.031198445707559586, 0.014079269021749496, 0.021883027628064156, -0.011285768821835518, -0.061608027666807175, -0.030546406283974648, 0.008963266387581825, 0.005572461057454348, -0.00046760024270042777, 0.05413961037993431, -0.05317151919007301, -0.05792059749364853, 0.022620344534516335, 0.020812196657061577, 0.006741519086062908, -0.039944060146808624, -0.012784263119101524, -0.03609837591648102, -0.014873960055410862, -0.024907121434807777, 0.03780919685959816, -0.008175328373908997, 0.016186770051717758, -0.03157469630241394, 0.08103357255458832, 0.06033363565802574, 0.018916085362434387, 0.019859032705426216, -0.018011584877967834, -0.021791240200400352, 0.034931767731904984, -0.07530082017183304, -0.007279436569660902, 0.0293581560254097, 0.029062872752547264, -0.01398194208741188, 0.004962097853422165, -0.01972615160048008, 0.009912851266562939, 0.024363717064261436, -0.03985850140452385, 0.00824348721653223, 0.045935627073049545, -0.04829419031739235, 0.053089939057826996, 0.03126664459705353, -0.031212611123919487, -0.05983375012874603, -0.05825217068195343, -0.0556410551071167, -0.012954332865774632, -0.025818519294261932, 0.003974359482526779, 0.0183440912514925, 0.048021551221609116, 0.024608347564935684, -0.11685696989297867, -0.005592821165919304, -0.015637069940567017, -0.0058171250857412815, -0.030153529718518257, -0.0037991285789757967, 0.043175533413887024, 0.011539523489773273, 0.0014728710521012545, -0.03534209728240967, -0.01815835013985634, 0.04944898933172226, 0.03297048062086105, 0.01848619058728218, -0.004876601509749889, -0.009067323058843613, 0.024564091116189957, 0.040710318833589554, 0.05965930595993996, 0.0012358985841274261, -0.018795624375343323, 0.06439559906721115, 0.035101693123579025, 0.06526974588632584, -0.0003405462484806776, -0.11543411016464233, 0.028979534283280373, 0.04807484522461891, 0.049283698201179504, -0.06173031032085419, -0.027803687378764153, 0.0022071613930165768, -0.005692614242434502, 0.018924999982118607, -0.01911606639623642, 0.016128605231642723, -0.03588654845952988, 0.029519537463784218, -0.07161802798509598, -0.01934221014380455, -0.053061459213495255, -0.010772031731903553, -0.0019782911986112595, 0.09772267937660217, -0.011318432167172432, -0.02127717062830925, 0.04430503025650978, -0.011809895746409893, 0.03417914733290672, 0.01155866775661707, -0.03336808457970619, 0.005027476232498884, -0.04545598477125168, 0.03561421483755112, 0.02532176300883293, -0.002474744338542223, 0.025430859997868538, 0.03319884091615677, 0.034534551203250885, 0.04105992242693901, -0.03234812989830971, 0.04884551092982292, -0.019298547878861427, -0.05349563807249069, -0.014911959879100323, 0.05707506090402603, 0.040891341865062714, -0.021675100550055504, -0.019810138270258904, -0.02352047711610794, 0.03837522491812706, 0.025684373453259468, -0.07429991662502289, -0.047598764300346375, 0.008617357350885868, 0.01735384203493595, 0.00844626221805811, 0.018913857638835907, 0.010491215623915195, 0.019314561039209366, -0.003218484576791525, 0.029122035950422287, 0.01955757848918438, 0.0016513732261955738, -0.06388477236032486, 0.02002447284758091, -0.010242938995361328, -0.015147681348025799, -0.051861852407455444, -0.02263779379427433, 0.0430140420794487, -0.02188771218061447, 0.03403617441654205, 0.010119420476257801, 0.006631897296756506, -0.0024799213279038668, -0.04125536233186722, 0.043418772518634796, 0.021604416891932487, 0.01562800630927086, -0.014578995294868946, 0.051991403102874756, 0.04132842645049095, 0.005724330432713032, 0.07215330004692078, 0.003749254159629345, 0.04921525716781616, -0.051421280950307846, 0.08684807270765305, 0.08752816170454025, 0.05908266082406044, 0.012958373874425888, -0.02234858088195324, -0.01836867444217205, 0.023996416479349136, 0.04148195683956146, 0.06734061241149902, -0.01171797327697277, 0.030838461592793465, -0.002085326239466667, -0.05587973818182945, 0.03201727941632271, 0.009824507869780064, -0.02139437198638916, 0.0234077088534832, -0.014055555686354637, -0.0003317963855806738, -0.0012843654258176684, -0.026372544467449188, 0.005741004832088947, -0.00630092853680253, 0.05816614255309105, 0.007821285165846348, -0.009030397050082684, -0.041491661220788956, -0.010072227567434311, -0.05529935657978058, 0.0034833913668990135, 0.019628360867500305, -0.01656358316540718, -0.018122335895895958, -0.025137610733509064, 0.028248105198144913, -0.004908047150820494, -0.007392149418592453, 0.0018433131044730544, 0.030621914193034172, 0.011541393585503101, -0.06129416450858116, -0.010724642314016819, -0.08514901995658875, -0.030730150640010834, 0.036741070449352264, -0.07334288954734802]]\n"
     ]
    }
   ],
   "source": [
    "data_embeddings = [get_embedding(embedding_client,x) for x in data]\n",
    "print(data_embeddings)"
   ]
  },
  {
   "cell_type": "code",
   "execution_count": 91,
   "metadata": {},
   "outputs": [
    {
     "name": "stdout",
     "output_type": "stream",
     "text": [
      "2\n"
     ]
    },
    {
     "data": {
      "text/plain": [
       "768"
      ]
     },
     "execution_count": 91,
     "metadata": {},
     "output_type": "execute_result"
    }
   ],
   "source": [
    "print(len(data_embeddings))\n",
    "len(data_embeddings[0])"
   ]
  },
  {
   "cell_type": "code",
   "execution_count": 81,
   "metadata": {},
   "outputs": [
    {
     "name": "stdout",
     "output_type": "stream",
     "text": [
      "[[0.46729566 0.48160282]]\n"
     ]
    }
   ],
   "source": [
    "\n",
    "data_similaraty_scores = cosine_similarity([user_prompt_embeddings], data_embeddings)\n",
    "print(data_similaraty_scores)"
   ]
  },
  {
   "cell_type": "code",
   "execution_count": 82,
   "metadata": {},
   "outputs": [
    {
     "data": {
      "text/plain": [
       "np.int64(1)"
      ]
     },
     "execution_count": 82,
     "metadata": {},
     "output_type": "execute_result"
    }
   ],
   "source": [
    "closest_entry_index=data_similaraty_scores.argmax()\n",
    "closest_entry_index\n"
   ]
  },
  {
   "cell_type": "code",
   "execution_count": 83,
   "metadata": {},
   "outputs": [
    {
     "data": {
      "text/plain": [
       "' The VegaCore G7 redefines affordability in high-performance graphics processing, delivering cutting-edge technology at a price point that’s accessible to everyone. Built on a refined 4nm architecture, the VegaCore G7 is optimized for efficiency and performance, packing 16 billion transistors into a compact design. With a core clock speed of 2.4 GHz and 18GB of ultra-fast GDDR7 memory, it effortlessly handles modern gaming, AI workloads, and creative applications.\\n\\nThe VegaCore G7 features HyperRay 2.0 technology, offering real-time ray tracing with precision lighting and shadows, rivaling GPUs at twice its cost. Its AI-boosted NeuroCore engine enhances performance in machine learning tasks, upscaling, and real-time image generation. For gamers, the VegaCore G7 introduces SmartSync Max, a dynamic refresh rate system that eliminates screen tearing while conserving power.\\n\\nDesigned for creators on a budget, it supports seamless 4K video editing and rendering with ProRender Lite, delivering professional-grade results. The innovative IceFlow Dual-Cooling system keeps temperatures low during intense workloads, ensuring sustained performance with minimal fan noise. \\n\\nThe VegaCore G7 also embraces future-proofing with PCIe Gen 5.0 and full support for next-gen APIs like DirectX 12 Ultimate and Vulkan. Despite its advanced features, it remains highly energy-efficient, consuming 30% less power than competing models. \\n\\nPriced at just $499, the VegaCore G7 brings high-end graphics capabilities to gamers, creators, and professionals without breaking the bank. Launching in Q1 of 2024, the VegaCore G7 is poised to set a new benchmark for affordable innovation in the GPU market.\\n\\n'"
      ]
     },
     "execution_count": 83,
     "metadata": {},
     "output_type": "execute_result"
    }
   ],
   "source": [
    "\n",
    "data[closest_entry_index]"
   ]
  },
  {
   "cell_type": "code",
   "execution_count": 84,
   "metadata": {},
   "outputs": [],
   "source": [
    "user_prompt_with_data = f\"\"\"\n",
    "{data[closest_entry_index]}\n",
    "\n",
    "{user_prompt}\n",
    "\"\"\" "
   ]
  },
  {
   "cell_type": "code",
   "execution_count": 85,
   "metadata": {},
   "outputs": [
    {
     "name": "stdout",
     "output_type": "stream",
     "text": [
      "Your company launched the VegaCore G7 GPU, and its key selling points as a cheaper, technologically advanced product are:\n",
      "\n",
      "* **Refined 4nm Architecture:**  Smaller, more efficient, and more powerful due to packing 16 billion transistors.\n",
      "* **High-Speed Components:** 2.4 GHz core clock, 18GB GDDR7 memory for smooth handling of demanding tasks.\n",
      "* **HyperRay 2.0:** Real-time ray tracing comparable to much more expensive GPUs.\n",
      "* **NeuroCore AI Engine:** Boosts performance in AI tasks, upscaling, and image generation.\n",
      "* **SmartSync Max:** Dynamic refresh rate eliminates screen tearing and saves power.\n",
      "* **ProRender Lite:** Enables professional 4K video editing and rendering for creators.\n",
      "* **IceFlow Dual-Cooling:** Efficient cooling system for quiet and sustained performance.\n",
      "* **Future-Proofing:** PCIe Gen 5.0 support and compatibility with next-gen APIs (DirectX 12 Ultimate, Vulkan).\n",
      "* **High Energy Efficiency:** Consumes 30% less power than competitors.\n",
      "* **Affordable Price:**  $499 makes high-end graphics accessible.\n",
      "\n"
     ]
    }
   ],
   "source": [
    "messages = [{'role':'user','content':user_prompt_with_data}]\n",
    "response = get_chatbot_response(client,model_name,messages)\n",
    "print(response)"
   ]
  },
  {
   "cell_type": "code",
   "execution_count": null,
   "metadata": {},
   "outputs": [],
   "source": []
  },
  {
   "cell_type": "code",
   "execution_count": null,
   "metadata": {},
   "outputs": [],
   "source": []
  },
  {
   "cell_type": "code",
   "execution_count": null,
   "metadata": {},
   "outputs": [],
   "source": []
  }
 ],
 "metadata": {
  "kernelspec": {
   "display_name": "langchain_llm-env",
   "language": "python",
   "name": "python3"
  },
  "language_info": {
   "codemirror_mode": {
    "name": "ipython",
    "version": 3
   },
   "file_extension": ".py",
   "mimetype": "text/x-python",
   "name": "python",
   "nbconvert_exporter": "python",
   "pygments_lexer": "ipython3",
   "version": "3.12.8"
  }
 },
 "nbformat": 4,
 "nbformat_minor": 2
}
